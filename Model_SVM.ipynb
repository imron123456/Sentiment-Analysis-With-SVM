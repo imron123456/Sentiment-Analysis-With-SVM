{
  "nbformat": 4,
  "nbformat_minor": 0,
  "metadata": {
    "colab": {
      "provenance": []
    },
    "kernelspec": {
      "name": "python3",
      "display_name": "Python 3"
    },
    "language_info": {
      "name": "python"
    }
  },
  "cells": [
    {
      "cell_type": "code",
      "execution_count": 3,
      "metadata": {
        "id": "sqIHcyXsGgNt"
      },
      "outputs": [],
      "source": [
        "import pandas as pd\n",
        "from sklearn.feature_extraction.text import TfidfVectorizer\n",
        "from sklearn.svm import SVC\n",
        "from sklearn.metrics import classification_report, accuracy_score\n",
        "from sklearn.model_selection import train_test_split\n",
        "from sklearn.metrics import confusion_matrix"
      ]
    },
    {
      "cell_type": "code",
      "source": [
        "# === 1. Baca data dari file Excel ===\n",
        "df = pd.read_excel('data uji pemodelan.xlsx')  # ganti dengan nama file kamu\n",
        "df.dropna(subset=['stem_clean', 'sentimen pakar', 'sentimen ai'], inplace=True)  # pastikan tidak ada nilai kosong\n",
        "\n",
        "# === 2. TF-IDF Vectorization ===\n",
        "vectorizer = TfidfVectorizer()\n",
        "X_tfidf = vectorizer.fit_transform(df['stem_clean'])\n",
        "\n",
        "# === 3. Analisis Sentimen dengan SVM berdasarkan Label Ahli Bahasa ===\n",
        "y_ahli = df['sentimen pakar']\n",
        "\n",
        "# Split data (bisa juga pakai cross-validation)\n",
        "X_train_ahli, X_test_ahli, y_train_ahli, y_test_ahli = train_test_split(\n",
        "    X_tfidf, y_ahli, test_size=0.2, random_state=42\n",
        ")\n",
        "\n",
        "# Buat dan latih model SVM\n",
        "svm_ahli = SVC(kernel='linear')  # kernel bisa diubah ke 'rbf', 'poly', dsb.\n",
        "svm_ahli.fit(X_train_ahli, y_train_ahli)\n",
        "\n",
        "# Prediksi dan evaluasi\n",
        "y_pred_ahli = svm_ahli.predict(X_test_ahli)\n",
        "print(\"=== Evaluasi Model (Label Ahli) ===\")\n",
        "print(\"Akurasi:\", accuracy_score(y_test_ahli, y_pred_ahli))\n",
        "print(classification_report(y_test_ahli, y_pred_ahli))\n",
        "\n",
        "# === 4. Analisis Sentimen dengan SVM berdasarkan Label AI ===\n",
        "y_ai = df['sentimen ai']\n",
        "\n",
        "# Split data\n",
        "X_train_ai, X_test_ai, y_train_ai, y_test_ai = train_test_split(\n",
        "    X_tfidf, y_ai, test_size=0.2, random_state=42\n",
        ")\n",
        "\n",
        "# Buat dan latih model SVM\n",
        "svm_ai = SVC(kernel='linear')\n",
        "svm_ai.fit(X_train_ai, y_train_ai)\n",
        "\n",
        "# Prediksi dan evaluasi\n",
        "y_pred_ai = svm_ai.predict(X_test_ai)\n",
        "print(\"\\n=== Evaluasi Model (Label AI) ===\")\n",
        "print(\"Akurasi:\", accuracy_score(y_test_ai, y_pred_ai))\n",
        "print(classification_report(y_test_ai, y_pred_ai))"
      ],
      "metadata": {
        "colab": {
          "base_uri": "https://localhost:8080/"
        },
        "id": "A4q5XGPlPSaf",
        "outputId": "4990dbe8-184b-4020-e146-092bdf7553bb"
      },
      "execution_count": 2,
      "outputs": [
        {
          "output_type": "stream",
          "name": "stdout",
          "text": [
            "=== Evaluasi Model (Label Ahli) ===\n",
            "Akurasi: 0.75\n",
            "              precision    recall  f1-score   support\n",
            "\n",
            "     negatif       0.00      0.00      0.00         5\n",
            "      netral       1.00      0.09      0.17        22\n",
            "     positif       0.74      1.00      0.85        73\n",
            "\n",
            "    accuracy                           0.75       100\n",
            "   macro avg       0.58      0.36      0.34       100\n",
            "weighted avg       0.76      0.75      0.66       100\n",
            "\n",
            "\n",
            "=== Evaluasi Model (Label AI) ===\n",
            "Akurasi: 0.89\n",
            "              precision    recall  f1-score   support\n",
            "\n",
            "      netral       0.89      1.00      0.94        89\n",
            "     positif       0.00      0.00      0.00        11\n",
            "\n",
            "    accuracy                           0.89       100\n",
            "   macro avg       0.45      0.50      0.47       100\n",
            "weighted avg       0.79      0.89      0.84       100\n",
            "\n"
          ]
        },
        {
          "output_type": "stream",
          "name": "stderr",
          "text": [
            "/usr/local/lib/python3.11/dist-packages/sklearn/metrics/_classification.py:1565: UndefinedMetricWarning: Precision is ill-defined and being set to 0.0 in labels with no predicted samples. Use `zero_division` parameter to control this behavior.\n",
            "  _warn_prf(average, modifier, f\"{metric.capitalize()} is\", len(result))\n",
            "/usr/local/lib/python3.11/dist-packages/sklearn/metrics/_classification.py:1565: UndefinedMetricWarning: Precision is ill-defined and being set to 0.0 in labels with no predicted samples. Use `zero_division` parameter to control this behavior.\n",
            "  _warn_prf(average, modifier, f\"{metric.capitalize()} is\", len(result))\n",
            "/usr/local/lib/python3.11/dist-packages/sklearn/metrics/_classification.py:1565: UndefinedMetricWarning: Precision is ill-defined and being set to 0.0 in labels with no predicted samples. Use `zero_division` parameter to control this behavior.\n",
            "  _warn_prf(average, modifier, f\"{metric.capitalize()} is\", len(result))\n",
            "/usr/local/lib/python3.11/dist-packages/sklearn/metrics/_classification.py:1565: UndefinedMetricWarning: Precision is ill-defined and being set to 0.0 in labels with no predicted samples. Use `zero_division` parameter to control this behavior.\n",
            "  _warn_prf(average, modifier, f\"{metric.capitalize()} is\", len(result))\n",
            "/usr/local/lib/python3.11/dist-packages/sklearn/metrics/_classification.py:1565: UndefinedMetricWarning: Precision is ill-defined and being set to 0.0 in labels with no predicted samples. Use `zero_division` parameter to control this behavior.\n",
            "  _warn_prf(average, modifier, f\"{metric.capitalize()} is\", len(result))\n",
            "/usr/local/lib/python3.11/dist-packages/sklearn/metrics/_classification.py:1565: UndefinedMetricWarning: Precision is ill-defined and being set to 0.0 in labels with no predicted samples. Use `zero_division` parameter to control this behavior.\n",
            "  _warn_prf(average, modifier, f\"{metric.capitalize()} is\", len(result))\n"
          ]
        }
      ]
    },
    {
      "cell_type": "code",
      "source": [
        "def analisis_confusion_matrix(y_true, y_pred, label_nama=\"\"):\n",
        "    cm = confusion_matrix(y_true, y_pred, labels=['positif', 'netral', 'negatif'])\n",
        "    print(f\"\\n=== Confusion Matrix ({label_nama}) ===\")\n",
        "    print(\"Label urutan: [positif, netral, negatif]\")\n",
        "    print(cm)\n",
        "\n",
        "    TP = cm[0, 0]\n",
        "    TT = cm[1, 1]\n",
        "    TN = cm[2, 2]\n",
        "\n",
        "    FNP = cm[1, 0]  # netral diprediksi sebagai positif\n",
        "    FNN = cm[1, 2]  # netral diprediksi sebagai negatif\n",
        "    FP_Netral = cm[0, 1]  # positif diprediksi sebagai netral\n",
        "    FN_Netral = cm[2, 1]  # negatif diprediksi sebagai netral\n",
        "    FP = cm[2, 0]  # negatif diprediksi sebagai positif\n",
        "    FN = cm[0, 2]  # positif diprediksi sebagai negatif\n",
        "\n",
        "    print(f\"\"\"\n",
        "    True Positif (positif → positif): {TP}\n",
        "    True Netral (netral → netral): {TT}\n",
        "    True Negatif (negatif → negatif): {TN}\n",
        "\n",
        "    False Positif (negatif → positif): {FP}\n",
        "    False Negatif (positif → negatif): {FN}\n",
        "\n",
        "    False Positif Netral (positif → netral): {FP_Netral}\n",
        "    False Negatif Netral (negatif → netral): {FN_Netral}\n",
        "\n",
        "    False Netral Positif (netral → positif): {FNP}\n",
        "    False Netral Negatif (netral → negatif): {FNN}\n",
        "    \"\"\")\n",
        "\n",
        "# === 4. SVM Model untuk Label Ahli ===\n",
        "svm_ahli = SVC(kernel='linear')\n",
        "svm_ahli.fit(X_tfidf, df['sentimen pakar'])  # latih dengan seluruh data\n",
        "y_pred_ahli = svm_ahli.predict(X_tfidf)\n",
        "analisis_confusion_matrix(df['sentimen pakar'], y_pred_ahli, label_nama=\"sentimen pakar\")\n",
        "\n",
        "# === 5. SVM Model untuk Label AI ===\n",
        "svm_ai = SVC(kernel='linear')\n",
        "svm_ai.fit(X_tfidf, df['sentimen ai'])\n",
        "y_pred_ai = svm_ai.predict(X_tfidf)\n",
        "analisis_confusion_matrix(df['sentimen ai'], y_pred_ai, label_nama=\"sentimen ai\")"
      ],
      "metadata": {
        "colab": {
          "base_uri": "https://localhost:8080/"
        },
        "id": "A5CpsV6SRM5m",
        "outputId": "f720b029-6544-4800-a94b-07802e5a6981"
      },
      "execution_count": 6,
      "outputs": [
        {
          "output_type": "stream",
          "name": "stdout",
          "text": [
            "\n",
            "=== Confusion Matrix (sentimen pakar) ===\n",
            "Label urutan: [positif, netral, negatif]\n",
            "[[372   0   0]\n",
            " [ 55  40   0]\n",
            " [  7   0  23]]\n",
            "\n",
            "    True Positif (positif → positif): 372\n",
            "    True Netral (netral → netral): 40\n",
            "    True Negatif (negatif → negatif): 23\n",
            "    \n",
            "    False Positif (negatif → positif): 7\n",
            "    False Negatif (positif → negatif): 0\n",
            "    \n",
            "    False Positif Netral (positif → netral): 0\n",
            "    False Negatif Netral (negatif → netral): 0\n",
            "    \n",
            "    False Netral Positif (netral → positif): 55\n",
            "    False Netral Negatif (netral → negatif): 0\n",
            "    \n",
            "\n",
            "=== Confusion Matrix (sentimen ai) ===\n",
            "Label urutan: [positif, netral, negatif]\n",
            "[[ 15  34   0]\n",
            " [  0 439   0]\n",
            " [  0  11   1]]\n",
            "\n",
            "    True Positif (positif → positif): 15\n",
            "    True Netral (netral → netral): 439\n",
            "    True Negatif (negatif → negatif): 1\n",
            "    \n",
            "    False Positif (negatif → positif): 0\n",
            "    False Negatif (positif → negatif): 0\n",
            "    \n",
            "    False Positif Netral (positif → netral): 34\n",
            "    False Negatif Netral (negatif → netral): 11\n",
            "    \n",
            "    False Netral Positif (netral → positif): 0\n",
            "    False Netral Negatif (netral → negatif): 0\n",
            "    \n"
          ]
        }
      ]
    }
  ]
}